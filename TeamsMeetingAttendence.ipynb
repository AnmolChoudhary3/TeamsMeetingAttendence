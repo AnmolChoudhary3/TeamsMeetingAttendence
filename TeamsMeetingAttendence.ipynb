{
 "cells": [
  {
   "cell_type": "code",
   "execution_count": 1,
   "metadata": {},
   "outputs": [],
   "source": [
    "import pandas as pd"
   ]
  },
  {
   "cell_type": "code",
   "execution_count": 2,
   "metadata": {},
   "outputs": [
    {
     "name": "stdout",
     "output_type": "stream",
     "text": [
      "Enter File Name (eg. Data.csv) : data.csv\n"
     ]
    }
   ],
   "source": [
    "file_name = input(\"Enter File Name (eg. Data.csv) : \")\n",
    "df = pd.read_csv(file_name)"
   ]
  },
  {
   "cell_type": "code",
   "execution_count": 3,
   "metadata": {},
   "outputs": [],
   "source": [
    "df = df.sort_values(by = \"Full Name\", kind = \"merge\")"
   ]
  },
  {
   "cell_type": "code",
   "execution_count": 4,
   "metadata": {},
   "outputs": [],
   "source": [
    "df[\"User Action\"] = df[\"User Action\"].replace(\"Joined before\", \"Joined\")"
   ]
  },
  {
   "cell_type": "code",
   "execution_count": 5,
   "metadata": {},
   "outputs": [],
   "source": [
    "size = len(df.index)\n",
    "df.loc[size] = [\" \", \" \", \" \"]"
   ]
  },
  {
   "cell_type": "code",
   "execution_count": 6,
   "metadata": {},
   "outputs": [
    {
     "name": "stdout",
     "output_type": "stream",
     "text": [
      "Enter Start Time (in 24 hour format -> 00:00) : 16:00\n",
      "Enter End Time (in 24 hour format -> 00:00) : 18:00\n"
     ]
    }
   ],
   "source": [
    "start_time = input(\"Enter Start Time (in 24 hour format -> 00:00) : \")\n",
    "start_time = start_time.split(\":\")\n",
    "start_time = int(start_time[0])*60 + int(start_time[1])\n",
    "end_time = input(\"Enter End Time (in 24 hour format -> 00:00) : \")\n",
    "end_time = end_time.split(\":\")\n",
    "end_time = int(end_time[0])*60 + int(end_time[1])"
   ]
  },
  {
   "cell_type": "code",
   "execution_count": 7,
   "metadata": {
    "scrolled": false
   },
   "outputs": [],
   "source": [
    "for i in range(size) :\n",
    "    time = df.iloc[i][\"Timestamp\"].split()[1:3]\n",
    "    if time[1] == \"PM\" :\n",
    "        time = time[0].split(\":\")[:2]\n",
    "        time = int(time[0])*60 + int(time[1]) + 12*60\n",
    "    else :\n",
    "        time = time[0].split(\":\")[:2]\n",
    "        time = int(time[0])*60 + int(time[1])\n",
    "    df.iloc[i][\"Timestamp\"] = time"
   ]
  },
  {
   "cell_type": "code",
   "execution_count": 8,
   "metadata": {},
   "outputs": [],
   "source": [
    "person = {}\n",
    "i = 0\n",
    "while i < size :\n",
    "    name = df.iloc[i][0]\n",
    "    left = 0\n",
    "    left_count = 0\n",
    "    joined = 0\n",
    "    joined_count = 0\n",
    "    last_joined = 0\n",
    "    while df.iloc[i][0] == name and i < size:\n",
    "        if df.iloc[i][1] == \"Joined\" :\n",
    "            joined_count += 1\n",
    "            joined += int(df.iloc[i][2])\n",
    "            last_joined = int(df.iloc[i][2])\n",
    "        else:\n",
    "            left_count += 1\n",
    "            left += int(df.iloc[i][2])\n",
    "        i += 1\n",
    "    if left_count == joined_count : \n",
    "        person[name] = left - joined\n",
    "    elif joined_count == 1 and left_count == 0:\n",
    "        person[name] = end_time - last_joined\n",
    "    else : \n",
    "        person[name] = left - joined + end_time"
   ]
  },
  {
   "cell_type": "code",
   "execution_count": 9,
   "metadata": {},
   "outputs": [
    {
     "data": {
      "text/plain": [
       "{'Yukti19csu367': 119,\n",
       " 'aditi19bae001': 118,\n",
       " 'akash19csu016': 123,\n",
       " 'aman20csu010': 119,\n",
       " 'bhavana19csu063': 119,\n",
       " 'bhoomi20csu316': 11,\n",
       " 'eva20llb088': 119,\n",
       " 'gargi19bsp002': 100,\n",
       " 'gaurav19bae015': 118,\n",
       " 'hridyansh20csu043': 109,\n",
       " 'jahanvi20csu045': 19,\n",
       " 'komal20csu306': 113,\n",
       " 'lavish19bap018': 115,\n",
       " 'rashi19csu241': 114,\n",
       " 'rohan19bcom69': 46,\n",
       " 'sakshi19csu269': 7,\n",
       " 'samarth19csu272': 122,\n",
       " 'sanya19csu275': 115,\n",
       " 'shanumathi18csu203': 12,\n",
       " 'shivangi20bap011': 119,\n",
       " 'yukti19csu366': 117}"
      ]
     },
     "execution_count": 9,
     "metadata": {},
     "output_type": "execute_result"
    }
   ],
   "source": [
    "duration = end_time - start_time\n",
    "duration\n",
    "person"
   ]
  },
  {
   "cell_type": "code",
   "execution_count": 10,
   "metadata": {},
   "outputs": [
    {
     "name": "stdout",
     "output_type": "stream",
     "text": [
      "Enter Toerance Value (eg 0.7 for 70%) : 0.5\n"
     ]
    }
   ],
   "source": [
    "tolerance = float(input(\"Enter Toerance Value (eg 0.7 for 70%) : \"))"
   ]
  },
  {
   "cell_type": "code",
   "execution_count": 11,
   "metadata": {},
   "outputs": [],
   "source": [
    "final_dict = {}\n",
    "for entry in person :\n",
    "    if person[entry] >= duration * tolerance :\n",
    "        final_dict[entry] = person[entry]"
   ]
  },
  {
   "cell_type": "code",
   "execution_count": 12,
   "metadata": {},
   "outputs": [],
   "source": [
    "final = pd.DataFrame(list(final_dict.items()), columns = [\"Name\", \"Time (in minutes)\"])"
   ]
  },
  {
   "cell_type": "code",
   "execution_count": 13,
   "metadata": {
    "scrolled": true
   },
   "outputs": [
    {
     "data": {
      "text/plain": [
       "16"
      ]
     },
     "execution_count": 13,
     "metadata": {},
     "output_type": "execute_result"
    }
   ],
   "source": [
    "len(final)"
   ]
  },
  {
   "cell_type": "code",
   "execution_count": 14,
   "metadata": {},
   "outputs": [],
   "source": [
    "file_name = file_name.split(\".\")\n",
    "file_name = file_name[0] + \"_result.\" + file_name[1]\n",
    "final.to_csv(file_name)"
   ]
  }
 ],
 "metadata": {
  "kernelspec": {
   "display_name": "Python 3",
   "language": "python",
   "name": "python3"
  },
  "language_info": {
   "codemirror_mode": {
    "name": "ipython",
    "version": 3
   },
   "file_extension": ".py",
   "mimetype": "text/x-python",
   "name": "python",
   "nbconvert_exporter": "python",
   "pygments_lexer": "ipython3",
   "version": "3.8.8"
  }
 },
 "nbformat": 4,
 "nbformat_minor": 4
}
